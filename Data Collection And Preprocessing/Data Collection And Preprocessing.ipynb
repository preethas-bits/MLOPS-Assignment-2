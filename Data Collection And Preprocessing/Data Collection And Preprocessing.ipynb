{
 "cells": [
  {
   "cell_type": "markdown",
   "id": "d4685bab",
   "metadata": {},
   "source": [
    "# End-to-End Machine Learning Workflow with KizenML, XAI, and Cloud Deployment"
   ]
  },
  {
   "cell_type": "markdown",
   "id": "daa39b8e",
   "metadata": {},
   "source": [
    "# Data preprocessing & Visualization using Auto EDA"
   ]
  },
  {
   "cell_type": "code",
   "execution_count": null,
   "id": "abd38248",
   "metadata": {},
   "outputs": [],
   "source": [
    "!pip uninstall pylint"
   ]
  },
  {
   "cell_type": "code",
   "execution_count": null,
   "id": "c612450c",
   "metadata": {},
   "outputs": [],
   "source": [
    "!pip install --upgrade pandas\n",
    "!pip install seaborn missingno\n",
    "!pip install sweetviz\n",
    "!pip install --upgrade autoviz\n",
    "!pip install --upgrade jinja2\n",
    "!pip install featuretools\n",
    "!pip install tidypy\n",
    "!pip install pylint==2.11.1\n",
    "\n"
   ]
  },
  {
   "cell_type": "code",
   "execution_count": null,
   "id": "e5dc7505",
   "metadata": {},
   "outputs": [
    {
     "name": "stderr",
     "output_type": "stream",
     "text": [
      "C:\\Users\\preethas\\AppData\\Local\\anaconda3\\lib\\site-packages\\pandas\\core\\arrays\\masked.py:60: UserWarning: Pandas requires version '1.3.6' or newer of 'bottleneck' (version '1.3.5' currently installed).\n",
      "  from pandas.core import (\n"
     ]
    }
   ],
   "source": [
    "# Import necessary libraries\n",
    "import pandas as pd\n",
    "import sweetviz as sv\n",
    "import numpy as np\n",
    "import warnings\n",
    "import tidypy\n",
    "from sklearn.model_selection import train_test_split\n",
    "from sklearn.preprocessing import StandardScaler\n",
    "from sklearn.impute import SimpleImputer\n",
    "from sklearn.preprocessing import OneHotEncoder\n",
    "from sklearn.compose import ColumnTransformer\n",
    "from sklearn.pipeline import Pipeline\n",
    "import seaborn as sns\n",
    "from autoviz.AutoViz_Class import AutoViz_Class\n",
    "import missingno as msno"
   ]
  },
  {
   "cell_type": "code",
   "execution_count": null,
   "id": "8716a9da",
   "metadata": {},
   "outputs": [],
   "source": [
    "# Hide all warnings\n",
    "warnings.filterwarnings('ignore')"
   ]
  },
  {
   "cell_type": "markdown",
   "id": "f2d17691",
   "metadata": {},
   "source": [
    "# Data Collection and Preprocessing (4 Marks):"
   ]
  },
  {
   "cell_type": "code",
   "execution_count": null,
   "id": "becd4aa2",
   "metadata": {},
   "outputs": [],
   "source": [
    "# Load the Titanic dataset\n",
    "url = \"https://raw.githubusercontent.com/datasciencedojo/datasets/master/titanic.csv\"\n",
    "titanic_df = pd.read_csv(url)\n",
    "\n",
    "# Inspect the data\n",
    "print(titanic_df.head())\n",
    "print(titanic_df.info())\n",
    "\n"
   ]
  },
  {
   "cell_type": "markdown",
   "id": "d21922dd",
   "metadata": {},
   "source": [
    "# Detecting issues using TidyPy"
   ]
  },
  {
   "cell_type": "code",
   "execution_count": null,
   "id": "c4f07ba1",
   "metadata": {},
   "outputs": [],
   "source": [
    "# Run tidypy to check the dataset for any issues\n",
    "issues = tidypy.check(['titanic_df.csv'])\n",
    "\n",
    "# Print detected issues\n",
    "print(issues)"
   ]
  },
  {
   "cell_type": "markdown",
   "id": "b7b81f14",
   "metadata": {},
   "source": [
    "# Data Cleaning"
   ]
  },
  {
   "cell_type": "code",
   "execution_count": null,
   "id": "c9bba791",
   "metadata": {},
   "outputs": [],
   "source": [
    "# Drop columns that won't be useful for prediction (e.g., 'PassengerId', 'Name', 'Ticket', 'Cabin')\n",
    "titanic_df = titanic_df.drop(columns=['PassengerId', 'Name', 'Ticket', 'Cabin'])\n",
    "\n",
    "# Handle missing values\n",
    "# For numerical columns, we can use the median for imputation\n",
    "# For categorical columns, we can use the most frequent value for imputation\n",
    "\n",
    "numerical_features = ['Age', 'Fare']\n",
    "categorical_features = ['Embarked', 'Sex']"
   ]
  },
  {
   "cell_type": "markdown",
   "id": "efe270cb",
   "metadata": {},
   "source": [
    "# Feature Engineering"
   ]
  },
  {
   "cell_type": "code",
   "execution_count": null,
   "id": "e3198080",
   "metadata": {},
   "outputs": [],
   "source": [
    "# Create new features (e.g., family size)\n",
    "titanic_df['FamilySize'] = titanic_df['SibSp'] + titanic_df['Parch']\n",
    "\n",
    "# Drop SibSp and Parch as FamilySize is more informative\n",
    "titanic_df = titanic_df.drop(columns=['SibSp', 'Parch'])"
   ]
  },
  {
   "cell_type": "markdown",
   "id": "a35a9708",
   "metadata": {},
   "source": [
    "\n",
    "# Preprocessing Pipelines"
   ]
  },
  {
   "cell_type": "code",
   "execution_count": null,
   "id": "9551af12",
   "metadata": {},
   "outputs": [],
   "source": [
    "\n",
    "# Numerical pipeline: Impute missing values and scale the features\n",
    "numerical_pipeline = Pipeline(steps=[\n",
    "    ('imputer', SimpleImputer(strategy='median')),\n",
    "    ('scaler', StandardScaler())\n",
    "])\n",
    "\n",
    "# Categorical pipeline: Impute missing values and apply One-Hot Encoding\n",
    "categorical_pipeline = Pipeline(steps=[\n",
    "    ('imputer', SimpleImputer(strategy='most_frequent')),\n",
    "    ('onehot', OneHotEncoder(handle_unknown='ignore'))\n",
    "])\n",
    "\n",
    "# Combine both pipelines using ColumnTransformer\n",
    "preprocessor = ColumnTransformer(\n",
    "    transformers=[\n",
    "        ('num', numerical_pipeline, numerical_features),\n",
    "        ('cat', categorical_pipeline, categorical_features)\n",
    "    ])\n",
    "\n",
    "# Split the data into features (X) and target (y)\n",
    "X = titanic_df.drop(columns=['Survived'])\n",
    "y = titanic_df['Survived']\n",
    "\n",
    "# Apply the preprocessing to the data\n",
    "X_preprocessed = preprocessor.fit_transform(X)\n",
    "\n",
    "# Split the data into train and test sets\n",
    "X_train, X_test, y_train, y_test = train_test_split(X_preprocessed, y, test_size=0.2, random_state=42)\n",
    "\n",
    "# Output the transformed features\n",
    "print(\"Preprocessed Train Data Shape:\", X_train.shape)\n",
    "print(\"Preprocessed Test Data Shape:\", X_test.shape)"
   ]
  },
  {
   "cell_type": "markdown",
   "id": "732f8f42",
   "metadata": {},
   "source": [
    "# AutoEDA using sweetviz"
   ]
  },
  {
   "cell_type": "code",
   "execution_count": null,
   "id": "6fe775ff",
   "metadata": {},
   "outputs": [],
   "source": [
    "# Generate a Sweetviz report\n",
    "report = sv.analyze(titanic_df)\n",
    "\n",
    "# Save the report to an HTML file\n",
    "report.show_html(\"titanic_sweetviz_report.html\")"
   ]
  },
  {
   "cell_type": "markdown",
   "id": "77e155bb",
   "metadata": {},
   "source": [
    "# Auto EDA using Autoviz"
   ]
  },
  {
   "cell_type": "code",
   "execution_count": null,
   "id": "fec20ef4",
   "metadata": {},
   "outputs": [],
   "source": [
    "autoviz = AutoViz_Class()\n",
    "autoviz_report = autoviz.AutoViz(filename='', dfte=titanic_df, depVar='', verbose=0)"
   ]
  },
  {
   "cell_type": "markdown",
   "id": "410e2b1e",
   "metadata": {},
   "source": [
    "# Feature Engineering"
   ]
  },
  {
   "cell_type": "markdown",
   "id": "4df9cb2b",
   "metadata": {},
   "source": [
    "###### Automated Feature Engineering: The code leverages Featuretools to automatically generate new features from the dataset based on relationships between columns.\n",
    "######  EntitySet: Structures the data for feature synthesis.\n",
    "######  Deep Feature Synthesis (DFS): Automatically creates new features that are combinations or transformations of the original data."
   ]
  },
  {
   "cell_type": "code",
   "execution_count": null,
   "id": "52d21b06",
   "metadata": {},
   "outputs": [],
   "source": [
    "import featuretools as ft\n",
    "import pandas as pd\n",
    "\n",
    "url = \"https://raw.githubusercontent.com/datasciencedojo/datasets/master/titanic.csv\"\n",
    "titanic_df = pd.read_csv(url)\n",
    "\n",
    "\n",
    "\n",
    "num_features = titanic_df.shape[1]\n",
    "print(f\"Number of features: {num_features}\")\n",
    "# Print the column names\n",
    "print(\"Column names:\", titanic_df.columns)\n",
    "\n",
    "# Define entityset\n",
    "es = ft.EntitySet(id='data')\n",
    "\n",
    "# Add dataframe to entityset\n",
    "es = es.add_dataframe(\n",
    "    dataframe_name='data',\n",
    "    dataframe=titanic_df,\n",
    "    index='PassengerId'\n",
    ")\n",
    "\n",
    "# Define features\n",
    "feature_matrix, feature_defs = ft.dfs(\n",
    "    entityset=es,\n",
    "    target_dataframe_name='data'\n",
    ")\n",
    "\n",
    "\n",
    "print('After selecting features')\n",
    "num_features = feature_matrix.shape[1]\n",
    "print(f\"Number of features: {num_features}\")\n",
    "# Print the column names\n",
    "print(\"Column names:\", feature_matrix.columns)\n"
   ]
  },
  {
   "cell_type": "code",
   "execution_count": null,
   "id": "f93d9576",
   "metadata": {},
   "outputs": [],
   "source": []
  }
 ],
 "metadata": {
  "kernelspec": {
   "display_name": "Python 3 (ipykernel)",
   "language": "python",
   "name": "python3"
  },
  "language_info": {
   "codemirror_mode": {
    "name": "ipython",
    "version": 3
   },
   "file_extension": ".py",
   "mimetype": "text/x-python",
   "name": "python",
   "nbconvert_exporter": "python",
   "pygments_lexer": "ipython3",
   "version": "3.10.9"
  }
 },
 "nbformat": 4,
 "nbformat_minor": 5
}
